{
 "cells": [
  {
   "cell_type": "code",
   "execution_count": 21,
   "metadata": {},
   "outputs": [
    {
     "name": "stdout",
     "output_type": "stream",
     "text": [
      "     name  |   age\n",
      "0  pranav     23.0\n",
      "1   rahul     22.0\n",
      "2  sanjay     27.0\n"
     ]
    }
   ],
   "source": [
    "import pandas as pd\n",
    "data=[[\"pranav\",'23'],[\"rahul\",'22'],[\"sanjay\",'27']]\n",
    "df=pd.DataFrame(data,columns=['name','|   age'],dtype=float)\n",
    "print(df)"
   ]
  },
  {
   "cell_type": "code",
   "execution_count": 31,
   "metadata": {},
   "outputs": [
    {
     "name": "stdout",
     "output_type": "stream",
     "text": [
      "            name       colour\n",
      "flower1     lily        white\n",
      "flower2  jasmine        white\n",
      "flower3     rose          red\n",
      "flower4   flower  every color\n"
     ]
    }
   ],
   "source": [
    "import pandas\n",
    "data={'name':['lily','jasmine','rose','flower'],'colour':['white','white','red','every color']}\n",
    "frame=pandas.DataFrame(data,index=['flower1','flower2','flower3','flower4'])\n",
    "print(frame)"
   ]
  },
  {
   "cell_type": "code",
   "execution_count": 46,
   "metadata": {},
   "outputs": [
    {
     "name": "stdout",
     "output_type": "stream",
     "text": [
      "      a  b\n",
      "0    my  2\n",
      "1  name  3\n",
      "2    is  5\n",
      "3     f  8\n"
     ]
    }
   ],
   "source": [
    "import pandas \n",
    "#creating dataframe from dictionary of ndarray\n",
    "data={'a':['my','name','is','f'],'b':[2,3,5,8]}\n",
    "df=pandas.DataFrame(data)\n",
    "print(df)"
   ]
  },
  {
   "cell_type": "code",
   "execution_count": 42,
   "metadata": {},
   "outputs": [
    {
     "name": "stdout",
     "output_type": "stream",
     "text": [
      "    Name  Age\n",
      "0    Tom   28\n",
      "1   Jack   34\n",
      "2  Steve   29\n",
      "3  Ricky   42\n"
     ]
    }
   ],
   "source": [
    "import pandas as pd\n",
    "data = {'Name':['Tom', 'Jack', 'Steve', 'Ricky'],'Age':[28,34,29,42]}\n",
    "df = pd.DataFrame(data)\n",
    "print (df)"
   ]
  },
  {
   "cell_type": "code",
   "execution_count": 47,
   "metadata": {},
   "outputs": [
    {
     "name": "stdout",
     "output_type": "stream",
     "text": [
      "    Name  Age\n",
      "1    Tom   28\n",
      "2   Jack   34\n",
      "3  Steve   29\n",
      "4  Ricky   42\n"
     ]
    }
   ],
   "source": [
    "import pandas as pd\n",
    "data = {'Name':['Tom', 'Jack', 'Steve', 'Ricky'],'Age':[28,34,29,42]}\n",
    "df = pd.DataFrame(data,index=['1','2','3','4'])\n",
    "print (df)"
   ]
  },
  {
   "cell_type": "code",
   "execution_count": 52,
   "metadata": {},
   "outputs": [
    {
     "name": "stdout",
     "output_type": "stream",
     "text": [
      "   a  b    c\n",
      "0  1  2  NaN\n",
      "1  2  4  9.0\n"
     ]
    }
   ],
   "source": [
    "#creating a dataframe from list of ditionary\n",
    "import pandas as p\n",
    "d=[{'a':1,'b':2},{'a':2,'b':4,'c':9}]\n",
    "df=p.DataFrame(d)\n",
    "print(df)"
   ]
  },
  {
   "cell_type": "code",
   "execution_count": 51,
   "metadata": {},
   "outputs": [
    {
     "name": "stdout",
     "output_type": "stream",
     "text": [
      "   a   b     c\n",
      "0  1   2   NaN\n",
      "1  5  10  20.0\n"
     ]
    }
   ],
   "source": [
    "import pandas as pd\n",
    "data = [{'a': 1, 'b': 2},{'a': 5, 'b': 10, 'c': 20}]\n",
    "df = pd.DataFrame(data)\n",
    "print (df)"
   ]
  },
  {
   "cell_type": "code",
   "execution_count": 54,
   "metadata": {},
   "outputs": [
    {
     "name": "stdout",
     "output_type": "stream",
     "text": [
      "        a   b     c\n",
      "first   1   2   NaN\n",
      "second  5  10  20.0\n"
     ]
    }
   ],
   "source": [
    "import pandas as pd\n",
    "data = [{'a': 1, 'b': 2},{'a': 5, 'b': 10, 'c': 20}]\n",
    "df = pd.DataFrame(data,index=['first','second'])\n",
    "print (df)"
   ]
  },
  {
   "cell_type": "code",
   "execution_count": 55,
   "metadata": {},
   "outputs": [],
   "source": [
    "import re\n",
    "string=\"my name is pranav mishra and i am 22\"\n",
    "re.findall(r'')"
   ]
  },
  {
   "cell_type": "code",
   "execution_count": 56,
   "metadata": {},
   "outputs": [
    {
     "name": "stdout",
     "output_type": "stream",
     "text": [
      "11 june.ipynb  pandas_data_frame.ipynb\tpython.py\r\n",
      "mysound.py     python1.py\t\tsound.py\r\n"
     ]
    }
   ],
   "source": [
    "!ls\n"
   ]
  },
  {
   "cell_type": "code",
   "execution_count": 57,
   "metadata": {},
   "outputs": [
    {
     "name": "stdout",
     "output_type": "stream",
     "text": [
      "PING www.google.com (172.217.166.36) 56(84) bytes of data.\n",
      "64 bytes from bom07s18-in-f4.1e100.net (172.217.166.36): icmp_seq=1 ttl=55 time=46.0 ms\n",
      "64 bytes from bom07s18-in-f4.1e100.net (172.217.166.36): icmp_seq=2 ttl=55 time=61.1 ms\n",
      "64 bytes from bom07s18-in-f4.1e100.net (172.217.166.36): icmp_seq=3 ttl=55 time=46.3 ms\n",
      "64 bytes from bom07s18-in-f4.1e100.net (172.217.166.36): icmp_seq=4 ttl=55 time=61.3 ms\n",
      "64 bytes from bom07s18-in-f4.1e100.net (172.217.166.36): icmp_seq=5 ttl=55 time=61.3 ms\n",
      "64 bytes from bom07s18-in-f4.1e100.net (172.217.166.36): icmp_seq=6 ttl=55 time=46.4 ms\n",
      "64 bytes from bom07s18-in-f4.1e100.net (172.217.166.36): icmp_seq=7 ttl=55 time=69.2 ms\n",
      "64 bytes from bom07s18-in-f4.1e100.net (172.217.166.36): icmp_seq=8 ttl=55 time=50.4 ms\n",
      "64 bytes from bom07s18-in-f4.1e100.net (172.217.166.36): icmp_seq=9 ttl=55 time=57.9 ms\n",
      "64 bytes from bom07s18-in-f4.1e100.net (172.217.166.36): icmp_seq=10 ttl=55 time=49.8 ms\n",
      "64 bytes from bom07s18-in-f4.1e100.net (172.217.166.36): icmp_seq=11 ttl=55 time=50.5 ms\n",
      "64 bytes from bom07s18-in-f4.1e100.net (172.217.166.36): icmp_seq=12 ttl=55 time=61.5 ms\n",
      "64 bytes from bom07s18-in-f4.1e100.net (172.217.166.36): icmp_seq=13 ttl=55 time=81.9 ms\n",
      "64 bytes from bom07s18-in-f4.1e100.net (172.217.166.36): icmp_seq=14 ttl=55 time=46.9 ms\n",
      "64 bytes from bom07s18-in-f4.1e100.net (172.217.166.36): icmp_seq=15 ttl=55 time=46.7 ms\n",
      "64 bytes from bom07s18-in-f4.1e100.net (172.217.166.36): icmp_seq=16 ttl=55 time=49.4 ms\n",
      "64 bytes from bom07s18-in-f4.1e100.net (172.217.166.36): icmp_seq=17 ttl=55 time=45.1 ms\n",
      "64 bytes from bom07s18-in-f4.1e100.net (172.217.166.36): icmp_seq=18 ttl=55 time=52.9 ms\n",
      "64 bytes from bom07s18-in-f4.1e100.net (172.217.166.36): icmp_seq=19 ttl=55 time=46.1 ms\n",
      "64 bytes from bom07s18-in-f4.1e100.net (172.217.166.36): icmp_seq=20 ttl=55 time=73.4 ms\n",
      "64 bytes from bom07s18-in-f4.1e100.net (172.217.166.36): icmp_seq=21 ttl=55 time=46.5 ms\n",
      "64 bytes from bom07s18-in-f4.1e100.net (172.217.166.36): icmp_seq=22 ttl=55 time=46.7 ms\n",
      "64 bytes from bom07s18-in-f4.1e100.net (172.217.166.36): icmp_seq=23 ttl=55 time=45.4 ms\n",
      "64 bytes from bom07s18-in-f4.1e100.net (172.217.166.36): icmp_seq=24 ttl=55 time=54.7 ms\n",
      "64 bytes from bom07s18-in-f4.1e100.net (172.217.166.36): icmp_seq=25 ttl=55 time=46.5 ms\n",
      "64 bytes from bom07s18-in-f4.1e100.net (172.217.166.36): icmp_seq=26 ttl=55 time=52.3 ms\n",
      "64 bytes from bom07s18-in-f4.1e100.net (172.217.166.36): icmp_seq=27 ttl=55 time=73.7 ms\n",
      "64 bytes from bom07s18-in-f4.1e100.net (172.217.166.36): icmp_seq=28 ttl=55 time=46.8 ms\n",
      "64 bytes from bom07s18-in-f4.1e100.net (172.217.166.36): icmp_seq=29 ttl=55 time=68.0 ms\n",
      "64 bytes from bom07s18-in-f4.1e100.net (172.217.166.36): icmp_seq=30 ttl=55 time=60.2 ms\n",
      "^C\n",
      "\n",
      "--- www.google.com ping statistics ---\n",
      "30 packets transmitted, 30 received, 0% packet loss, time 29044ms\n",
      "rtt min/avg/max/mdev = 45.139/54.874/81.969/10.010 ms\n"
     ]
    }
   ],
   "source": [
    "!ping www.google.com\n"
   ]
  },
  {
   "cell_type": "code",
   "execution_count": 58,
   "metadata": {},
   "outputs": [
    {
     "name": "stdout",
     "output_type": "stream",
     "text": [
      "CAT(1)                           User Commands                          CAT(1)\r\n",
      "\r\n",
      "N\bNA\bAM\bME\bE\r\n",
      "       cat - concatenate files and print on the standard output\r\n",
      "\r\n",
      "S\bSY\bYN\bNO\bOP\bPS\bSI\bIS\bS\r\n",
      "       c\bca\bat\bt [_\bO_\bP_\bT_\bI_\bO_\bN]... [_\bF_\bI_\bL_\bE]...\r\n",
      "\r\n",
      "D\bDE\bES\bSC\bCR\bRI\bIP\bPT\bTI\bIO\bON\bN\r\n",
      "       Concatenate FILE(s) to standard output.\r\n",
      "\r\n",
      "       With no FILE, or when FILE is -, read standard input.\r\n",
      "\r\n",
      "       -\b-A\bA, -\b--\b-s\bsh\bho\bow\bw-\b-a\bal\bll\bl\r\n",
      "              equivalent to -\b-v\bvE\bET\bT\r\n",
      "\r\n",
      "       -\b-b\bb, -\b--\b-n\bnu\bum\bmb\bbe\ber\br-\b-n\bno\bon\bnb\bbl\bla\ban\bnk\bk\r\n",
      "              number nonempty output lines, overrides -\b-n\bn\r\n",
      "\r\n",
      "       -\b-e\be     equivalent to -\b-v\bvE\bE\r\n",
      "\r\n",
      "       -\b-E\bE, -\b--\b-s\bsh\bho\bow\bw-\b-e\ben\bnd\bds\bs\r\n",
      "              display $ at end of each line\r\n",
      "\r\n",
      "       -\b-n\bn, -\b--\b-n\bnu\bum\bmb\bbe\ber\br\r\n",
      "              number all output lines\r\n",
      "\r\n",
      "       -\b-s\bs, -\b--\b-s\bsq\bqu\bue\bee\bez\bze\be-\b-b\bbl\bla\ban\bnk\bk\r\n",
      "              suppress repeated empty output lines\r\n",
      "\r\n",
      "       -\b-t\bt     equivalent to -\b-v\bvT\bT\r\n",
      "\r\n",
      "       -\b-T\bT, -\b--\b-s\bsh\bho\bow\bw-\b-t\bta\bab\bbs\bs\r\n",
      "              display TAB characters as ^I\r\n",
      "\r\n",
      "       -\b-u\bu     (ignored)\r\n",
      "\r\n",
      "       -\b-v\bv, -\b--\b-s\bsh\bho\bow\bw-\b-n\bno\bon\bnp\bpr\bri\bin\bnt\bti\bin\bng\bg\r\n",
      "              use ^ and M- notation, except for LFD and TAB\r\n",
      "\r\n",
      "       -\b--\b-h\bhe\bel\blp\bp display this help and exit\r\n",
      "\r\n",
      "       -\b--\b-v\bve\ber\brs\bsi\bio\bon\bn\r\n",
      "              output version information and exit\r\n",
      "\r\n",
      "E\bEX\bXA\bAM\bMP\bPL\bLE\bES\bS\r\n",
      "       cat f - g\r\n",
      "              Output f's contents, then standard input, then g's contents.\r\n",
      "\r\n",
      "       cat    Copy standard input to standard output.\r\n",
      "\r\n",
      "A\bAU\bUT\bTH\bHO\bOR\bR\r\n",
      "       Written by Torbjorn Granlund and Richard M. Stallman.\r\n",
      "\r\n",
      "R\bRE\bEP\bPO\bOR\bRT\bTI\bIN\bNG\bG B\bBU\bUG\bGS\bS\r\n",
      "       GNU coreutils online help: <http://www.gnu.org/software/coreutils/>\r\n",
      "       Report cat translation bugs to <http://translationproject.org/team/>\r\n",
      "\r\n",
      "C\bCO\bOP\bPY\bYR\bRI\bIG\bGH\bHT\bT\r\n",
      "       Copyright  ©  2016  Free Software Foundation, Inc.  License GPLv3+: GNU\r\n",
      "       GPL version 3 or later <http://gnu.org/licenses/gpl.html>.\r\n",
      "       This is free software: you are free  to  change  and  redistribute  it.\r\n",
      "       There is NO WARRANTY, to the extent permitted by law.\r\n",
      "\r\n",
      "S\bSE\bEE\bE A\bAL\bLS\bSO\bO\r\n",
      "       t\bta\bac\bc(1)\r\n",
      "\r\n",
      "       Full documentation at: <http://www.gnu.org/software/coreutils/cat>\r\n",
      "       or available locally via: info '(coreutils) cat invocation'\r\n",
      "\r\n",
      "GNU coreutils 8.26               February 2017                          CAT(1)\r\n"
     ]
    }
   ],
   "source": [
    "!man cat\n"
   ]
  },
  {
   "cell_type": "code",
   "execution_count": 59,
   "metadata": {},
   "outputs": [
    {
     "name": "stdout",
     "output_type": "stream",
     "text": [
      "\u001b[H\u001b[2J"
     ]
    }
   ],
   "source": [
    "!clear"
   ]
  },
  {
   "cell_type": "code",
   "execution_count": 73,
   "metadata": {},
   "outputs": [
    {
     "data": {
      "text/plain": [
       "['Categorical',\n",
       " 'CategoricalIndex',\n",
       " 'DataFrame',\n",
       " 'DateOffset',\n",
       " 'DatetimeIndex',\n",
       " 'ExcelFile',\n",
       " 'ExcelWriter',\n",
       " 'Expr',\n",
       " 'Float64Index',\n",
       " 'Grouper',\n",
       " 'HDFStore',\n",
       " 'Index',\n",
       " 'IndexSlice',\n",
       " 'Int64Index',\n",
       " 'Interval',\n",
       " 'IntervalIndex',\n",
       " 'MultiIndex',\n",
       " 'NaT',\n",
       " 'Panel',\n",
       " 'Period',\n",
       " 'PeriodIndex',\n",
       " 'RangeIndex',\n",
       " 'Series',\n",
       " 'SparseArray',\n",
       " 'SparseDataFrame',\n",
       " 'SparseSeries',\n",
       " 'Term',\n",
       " 'TimeGrouper',\n",
       " 'Timedelta',\n",
       " 'TimedeltaIndex',\n",
       " 'Timestamp',\n",
       " 'UInt64Index',\n",
       " 'WidePanel',\n",
       " '_DeprecatedModule',\n",
       " '__builtins__',\n",
       " '__cached__',\n",
       " '__doc__',\n",
       " '__docformat__',\n",
       " '__file__',\n",
       " '__loader__',\n",
       " '__name__',\n",
       " '__package__',\n",
       " '__path__',\n",
       " '__spec__',\n",
       " '__version__',\n",
       " '_hashtable',\n",
       " '_lib',\n",
       " '_libs',\n",
       " '_np_version_under1p10',\n",
       " '_np_version_under1p11',\n",
       " '_np_version_under1p12',\n",
       " '_np_version_under1p13',\n",
       " '_np_version_under1p14',\n",
       " '_np_version_under1p15',\n",
       " '_tslib',\n",
       " '_version',\n",
       " 'api',\n",
       " 'bdate_range',\n",
       " 'compat',\n",
       " 'concat',\n",
       " 'core',\n",
       " 'crosstab',\n",
       " 'cut',\n",
       " 'date_range',\n",
       " 'datetime',\n",
       " 'datetools',\n",
       " 'describe_option',\n",
       " 'errors',\n",
       " 'eval',\n",
       " 'factorize',\n",
       " 'get_dummies',\n",
       " 'get_option',\n",
       " 'get_store',\n",
       " 'groupby',\n",
       " 'infer_freq',\n",
       " 'interval_range',\n",
       " 'io',\n",
       " 'isna',\n",
       " 'isnull',\n",
       " 'json',\n",
       " 'lib',\n",
       " 'lreshape',\n",
       " 'match',\n",
       " 'melt',\n",
       " 'merge',\n",
       " 'merge_asof',\n",
       " 'merge_ordered',\n",
       " 'notna',\n",
       " 'notnull',\n",
       " 'np',\n",
       " 'offsets',\n",
       " 'option_context',\n",
       " 'options',\n",
       " 'pandas',\n",
       " 'parser',\n",
       " 'period_range',\n",
       " 'pivot',\n",
       " 'pivot_table',\n",
       " 'plot_params',\n",
       " 'plotting',\n",
       " 'pnow',\n",
       " 'qcut',\n",
       " 'read_clipboard',\n",
       " 'read_csv',\n",
       " 'read_excel',\n",
       " 'read_feather',\n",
       " 'read_fwf',\n",
       " 'read_gbq',\n",
       " 'read_hdf',\n",
       " 'read_html',\n",
       " 'read_json',\n",
       " 'read_msgpack',\n",
       " 'read_parquet',\n",
       " 'read_pickle',\n",
       " 'read_sas',\n",
       " 'read_sql',\n",
       " 'read_sql_query',\n",
       " 'read_sql_table',\n",
       " 'read_stata',\n",
       " 'read_table',\n",
       " 'reset_option',\n",
       " 'scatter_matrix',\n",
       " 'set_eng_float_format',\n",
       " 'set_option',\n",
       " 'show_versions',\n",
       " 'test',\n",
       " 'testing',\n",
       " 'timedelta_range',\n",
       " 'to_datetime',\n",
       " 'to_msgpack',\n",
       " 'to_numeric',\n",
       " 'to_pickle',\n",
       " 'to_timedelta',\n",
       " 'tools',\n",
       " 'tseries',\n",
       " 'tslib',\n",
       " 'unique',\n",
       " 'util',\n",
       " 'value_counts',\n",
       " 'wide_to_long']"
      ]
     },
     "execution_count": 73,
     "metadata": {},
     "output_type": "execute_result"
    }
   ],
   "source": [
    "a=dir(pandas)\n",
    "#!/usr/bin/python\n",
    "dir(pandas) "
   ]
  },
  {
   "cell_type": "code",
   "execution_count": null,
   "metadata": {},
   "outputs": [],
   "source": []
  },
  {
   "cell_type": "code",
   "execution_count": null,
   "metadata": {},
   "outputs": [],
   "source": []
  },
  {
   "cell_type": "code",
   "execution_count": null,
   "metadata": {},
   "outputs": [],
   "source": []
  },
  {
   "cell_type": "code",
   "execution_count": null,
   "metadata": {},
   "outputs": [],
   "source": []
  }
 ],
 "metadata": {
  "kernelspec": {
   "display_name": "Python 3",
   "language": "python",
   "name": "python3"
  },
  "language_info": {
   "codemirror_mode": {
    "name": "ipython",
    "version": 3
   },
   "file_extension": ".py",
   "mimetype": "text/x-python",
   "name": "python",
   "nbconvert_exporter": "python",
   "pygments_lexer": "ipython3",
   "version": "3.6.5+"
  }
 },
 "nbformat": 4,
 "nbformat_minor": 2
}
